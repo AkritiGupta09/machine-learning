{
 "cells": [
  {
   "cell_type": "code",
   "execution_count": 1,
   "metadata": {},
   "outputs": [
    {
     "name": "stdout",
     "output_type": "stream",
     "text": [
      "1\n"
     ]
    }
   ],
   "source": [
    "#To cnvrt int to str\n",
    "a=1\n",
    "str(a)\n",
    "print (a)"
   ]
  },
  {
   "cell_type": "code",
   "execution_count": 2,
   "metadata": {},
   "outputs": [
    {
     "name": "stdout",
     "output_type": "stream",
     "text": [
      "Age of Robben 33\n"
     ]
    }
   ],
   "source": [
    "#To print the age of man using placeholder\n",
    "age=33\n",
    "string='Age of Robben '\n",
    "print(\"%s%d\"%(string,age))"
   ]
  },
  {
   "cell_type": "code",
   "execution_count": 6,
   "metadata": {},
   "outputs": [
    {
     "name": "stdout",
     "output_type": "stream",
     "text": [
      "Positive no\n"
     ]
    }
   ],
   "source": [
    "#to print if no is pos neg or else prnt aryabhatta\n",
    "num=3\n",
    "if num > 0:\n",
    "    print (\"Positive no\")\n",
    "elif num < 0:\n",
    "    print (\"Negative no\")\n",
    "else:\n",
    "    print (\"aryabhatta\")"
   ]
  },
  {
   "cell_type": "code",
   "execution_count": 1,
   "metadata": {},
   "outputs": [
    {
     "name": "stdout",
     "output_type": "stream",
     "text": [
      "choose no:5\n",
      "positive\n"
     ]
    }
   ],
   "source": [
    "#To print if no is pos neg or else prnt aryabhatta by taking no as user input\n",
    "num=int(input(\"choose no:\"))\n",
    "if num>0:\n",
    "    print (\"positive\")\n",
    "elif num<0:\n",
    "    print(\"negative\")\n",
    "else:\n",
    "    print(\"aryabhatta\")"
   ]
  },
  {
   "cell_type": "code",
   "execution_count": 2,
   "metadata": {},
   "outputs": [
    {
     "name": "stdout",
     "output_type": "stream",
     "text": [
      "age:33\n"
     ]
    }
   ],
   "source": [
    "#to print the age of a man when age is given =33\n",
    "age=33\n",
    "s=\"age:\"\n",
    "print (s + str(age))"
   ]
  },
  {
   "cell_type": "code",
   "execution_count": 3,
   "metadata": {},
   "outputs": [
    {
     "name": "stdout",
     "output_type": "stream",
     "text": [
      "age33\n"
     ]
    }
   ],
   "source": [
    "#to print the age of a man when age is given =33\n",
    "age=33\n",
    "print (\"age\"+ str(age))"
   ]
  },
  {
   "cell_type": "code",
   "execution_count": null,
   "metadata": {
    "collapsed": true
   },
   "outputs": [],
   "source": []
  }
 ],
 "metadata": {
  "kernelspec": {
   "display_name": "Python 2",
   "language": "python",
   "name": "python2"
  },
  "language_info": {
   "codemirror_mode": {
    "name": "ipython",
    "version": 2
   },
   "file_extension": ".py",
   "mimetype": "text/x-python",
   "name": "python",
   "nbconvert_exporter": "python",
   "pygments_lexer": "ipython2",
   "version": "2.7.14"
  }
 },
 "nbformat": 4,
 "nbformat_minor": 2
}
